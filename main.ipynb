{
 "cells": [
  {
   "cell_type": "code",
   "execution_count": null,
   "metadata": {},
   "outputs": [],
   "source": []
  },
  {
   "cell_type": "code",
   "execution_count": null,
   "metadata": {},
   "outputs": [],
   "source": []
  },
  {
   "cell_type": "code",
   "execution_count": 1,
   "metadata": {},
   "outputs": [],
   "source": [
    "import pandas as pd\n",
    "import folium"
   ]
  },
  {
   "cell_type": "code",
   "execution_count": 3,
   "metadata": {},
   "outputs": [],
   "source": [
    "all_clean = pd.read_csv('./input/all_clean.csv')"
   ]
  },
  {
   "cell_type": "code",
   "execution_count": 10,
   "metadata": {},
   "outputs": [],
   "source": [
    "city_count = all_clean.groupby(['city']).count()\n",
    "city_sorted = city_count.sort_values(['tech_startups'], ascending=[False])"
   ]
  },
  {
   "cell_type": "code",
   "execution_count": 38,
   "metadata": {},
   "outputs": [
    {
     "data": {
      "text/plain": [
       "city\n",
       "New York               52\n",
       "San Francisco          52\n",
       "Seattle                10\n",
       "Boston                  6\n",
       "Chicago                 5\n",
       "Paris                   5\n",
       "Toronto                 5\n",
       "Mountain View           4\n",
       "Palo Alto               4\n",
       "Los Angeles             4\n",
       "London                  3\n",
       "Boulder                 3\n",
       "Bellevue                3\n",
       "Montreal                3\n",
       "Reston                  2\n",
       "Redwood City            2\n",
       "Sydney                  2\n",
       "Menlo Park              2\n",
       "Amsterdam               2\n",
       "Copenhagen              2\n",
       "Berlin                  2\n",
       "Corte Madera            2\n",
       "Colorado Springs        1\n",
       "Birmingham              1\n",
       "Sunnyvale               1\n",
       "Stockholm               1\n",
       "Singapore               1\n",
       "Budapest                1\n",
       "Santa Monica            1\n",
       "Santa Clara             1\n",
       "San Mateo               1\n",
       "San Jose                1\n",
       "Cambridge               1\n",
       "Lancaster               1\n",
       "Honolulu                1\n",
       "Pittsburgh              1\n",
       "Emeryville              1\n",
       "Olpe                    1\n",
       "Glen Cove               1\n",
       "New Delhi               1\n",
       "Natick                  1\n",
       "Greenbelt               1\n",
       "Barcelona               1\n",
       "Halifax                 1\n",
       "Melbourne, Victoria     1\n",
       "Waterloo                1\n",
       "Name: tech_startups, dtype: int64"
      ]
     },
     "execution_count": 38,
     "metadata": {},
     "output_type": "execute_result"
    }
   ],
   "source": [
    "city_sorted['tech_startups']"
   ]
  },
  {
   "cell_type": "code",
   "execution_count": 54,
   "metadata": {},
   "outputs": [
    {
     "name": "stdout",
     "output_type": "stream",
     "text": [
      "Insert a city from the list above: Honolulu\n"
     ]
    }
   ],
   "source": [
    "choose_city = str(input(\"Insert a city from the list above: \"))"
   ]
  },
  {
   "cell_type": "code",
   "execution_count": 55,
   "metadata": {},
   "outputs": [],
   "source": [
    "city_df = all_clean.loc[all_clean.city == choose_city]"
   ]
  },
  {
   "cell_type": "code",
   "execution_count": 56,
   "metadata": {},
   "outputs": [],
   "source": [
    "lati = city_df['latitude'].iloc[0]\n",
    "long = city_df['longitude'].iloc[0]\n",
    "map_city=folium.Map(location=[float(lati),float(long)], zoom_start=12)\n",
    "\n",
    "for index, row in city_df.iterrows():\n",
    "    folium.Marker((row['latitude'],row['longitude']),\n",
    "                    radius=2,\n",
    "                    icon=folium.Icon(icon='home',color='red'),\n",
    "                    tooltip='Cool Tech Startup: '+str(row['tech_startups'])\n",
    "                   ).add_to(map_city)\n",
    "    \n",
    "for index, row in city_df.iterrows():\n",
    "    folium.Marker((row['starbucks_lat'],row['starbucks_lon']),\n",
    "                    radius=2,\n",
    "                    icon=folium.Icon(icon='leaf',color='green'),\n",
    "                    tooltip=str(row['starbucks'])\n",
    "                   ).add_to(map_city)\n",
    "    \n",
    "for index, row in city_df.iterrows():\n",
    "    folium.Marker((row['air_lat'],row['air_lon']),\n",
    "                    radius=2,\n",
    "                    icon=folium.Icon(icon='plane',color='lightgray'),\n",
    "                    tooltip=str(row['airport'])\n",
    "                   ).add_to(map_city)\n",
    "    \n",
    "    \n",
    "for index, row in city_df.iterrows():\n",
    "    folium.Marker((row['daycare_lat'],row['daycare_lon']),\n",
    "                    radius=2,\n",
    "                    icon=folium.Icon(icon='heart',color='blue'),\n",
    "                    tooltip='Kindergarten: '+str(row['daycare'])\n",
    "                   ).add_to(map_city)\n",
    "    \n",
    "    \n",
    "for index, row in city_df.iterrows():\n",
    "    folium.Marker((row['nightclub_lat'],row['nightclub_lon']),\n",
    "                    radius=2,\n",
    "                    icon=folium.Icon(icon='glass',color='darkpurple'),\n",
    "                    tooltip='Nightclub: '+str(row['nightclub'])\n",
    "                   ).add_to(map_city)\n",
    "    \n",
    "for index, row in city_df.iterrows():\n",
    "    folium.Marker((row['vegan_restaurant_lat'],row['vegan_restaurant_lon']),\n",
    "                    radius=2,\n",
    "                    icon=folium.Icon(icon='cutlery',color='darkgreen'),\n",
    "                    tooltip='Vegan: '+str(row['vegan_restaurant'])\n",
    "                   ).add_to(map_city)"
   ]
  },
  {
   "cell_type": "code",
   "execution_count": 57,
   "metadata": {},
   "outputs": [
    {
     "data": {
      "text/html": [
       "<div style=\"width:100%;\"><div style=\"position:relative;width:100%;height:0;padding-bottom:60%;\"><iframe src=\"data:text/html;charset=utf-8;base64,PCFET0NUWVBFIGh0bWw+CjxoZWFkPiAgICAKICAgIDxtZXRhIGh0dHAtZXF1aXY9ImNvbnRlbnQtdHlwZSIgY29udGVudD0idGV4dC9odG1sOyBjaGFyc2V0PVVURi04IiAvPgogICAgCiAgICAgICAgPHNjcmlwdD4KICAgICAgICAgICAgTF9OT19UT1VDSCA9IGZhbHNlOwogICAgICAgICAgICBMX0RJU0FCTEVfM0QgPSBmYWxzZTsKICAgICAgICA8L3NjcmlwdD4KICAgIAogICAgPHNjcmlwdCBzcmM9Imh0dHBzOi8vY2RuLmpzZGVsaXZyLm5ldC9ucG0vbGVhZmxldEAxLjUuMS9kaXN0L2xlYWZsZXQuanMiPjwvc2NyaXB0PgogICAgPHNjcmlwdCBzcmM9Imh0dHBzOi8vY29kZS5qcXVlcnkuY29tL2pxdWVyeS0xLjEyLjQubWluLmpzIj48L3NjcmlwdD4KICAgIDxzY3JpcHQgc3JjPSJodHRwczovL21heGNkbi5ib290c3RyYXBjZG4uY29tL2Jvb3RzdHJhcC8zLjIuMC9qcy9ib290c3RyYXAubWluLmpzIj48L3NjcmlwdD4KICAgIDxzY3JpcHQgc3JjPSJodHRwczovL2NkbmpzLmNsb3VkZmxhcmUuY29tL2FqYXgvbGlicy9MZWFmbGV0LmF3ZXNvbWUtbWFya2Vycy8yLjAuMi9sZWFmbGV0LmF3ZXNvbWUtbWFya2Vycy5qcyI+PC9zY3JpcHQ+CiAgICA8bGluayByZWw9InN0eWxlc2hlZXQiIGhyZWY9Imh0dHBzOi8vY2RuLmpzZGVsaXZyLm5ldC9ucG0vbGVhZmxldEAxLjUuMS9kaXN0L2xlYWZsZXQuY3NzIi8+CiAgICA8bGluayByZWw9InN0eWxlc2hlZXQiIGhyZWY9Imh0dHBzOi8vbWF4Y2RuLmJvb3RzdHJhcGNkbi5jb20vYm9vdHN0cmFwLzMuMi4wL2Nzcy9ib290c3RyYXAubWluLmNzcyIvPgogICAgPGxpbmsgcmVsPSJzdHlsZXNoZWV0IiBocmVmPSJodHRwczovL21heGNkbi5ib290c3RyYXBjZG4uY29tL2Jvb3RzdHJhcC8zLjIuMC9jc3MvYm9vdHN0cmFwLXRoZW1lLm1pbi5jc3MiLz4KICAgIDxsaW5rIHJlbD0ic3R5bGVzaGVldCIgaHJlZj0iaHR0cHM6Ly9tYXhjZG4uYm9vdHN0cmFwY2RuLmNvbS9mb250LWF3ZXNvbWUvNC42LjMvY3NzL2ZvbnQtYXdlc29tZS5taW4uY3NzIi8+CiAgICA8bGluayByZWw9InN0eWxlc2hlZXQiIGhyZWY9Imh0dHBzOi8vY2RuanMuY2xvdWRmbGFyZS5jb20vYWpheC9saWJzL0xlYWZsZXQuYXdlc29tZS1tYXJrZXJzLzIuMC4yL2xlYWZsZXQuYXdlc29tZS1tYXJrZXJzLmNzcyIvPgogICAgPGxpbmsgcmVsPSJzdHlsZXNoZWV0IiBocmVmPSJodHRwczovL3Jhd2Nkbi5naXRoYWNrLmNvbS9weXRob24tdmlzdWFsaXphdGlvbi9mb2xpdW0vbWFzdGVyL2ZvbGl1bS90ZW1wbGF0ZXMvbGVhZmxldC5hd2Vzb21lLnJvdGF0ZS5jc3MiLz4KICAgIDxzdHlsZT5odG1sLCBib2R5IHt3aWR0aDogMTAwJTtoZWlnaHQ6IDEwMCU7bWFyZ2luOiAwO3BhZGRpbmc6IDA7fTwvc3R5bGU+CiAgICA8c3R5bGU+I21hcCB7cG9zaXRpb246YWJzb2x1dGU7dG9wOjA7Ym90dG9tOjA7cmlnaHQ6MDtsZWZ0OjA7fTwvc3R5bGU+CiAgICAKICAgICAgICAgICAgPG1ldGEgbmFtZT0idmlld3BvcnQiIGNvbnRlbnQ9IndpZHRoPWRldmljZS13aWR0aCwKICAgICAgICAgICAgICAgIGluaXRpYWwtc2NhbGU9MS4wLCBtYXhpbXVtLXNjYWxlPTEuMCwgdXNlci1zY2FsYWJsZT1ubyIgLz4KICAgICAgICAgICAgPHN0eWxlPgogICAgICAgICAgICAgICAgI21hcF81MWIxYzg4YzcwMDk0MmM5ODIyY2YwMjdiNGUwNzg5ZiB7CiAgICAgICAgICAgICAgICAgICAgcG9zaXRpb246IHJlbGF0aXZlOwogICAgICAgICAgICAgICAgICAgIHdpZHRoOiAxMDAuMCU7CiAgICAgICAgICAgICAgICAgICAgaGVpZ2h0OiAxMDAuMCU7CiAgICAgICAgICAgICAgICAgICAgbGVmdDogMC4wJTsKICAgICAgICAgICAgICAgICAgICB0b3A6IDAuMCU7CiAgICAgICAgICAgICAgICB9CiAgICAgICAgICAgIDwvc3R5bGU+CiAgICAgICAgCjwvaGVhZD4KPGJvZHk+ICAgIAogICAgCiAgICAgICAgICAgIDxkaXYgY2xhc3M9ImZvbGl1bS1tYXAiIGlkPSJtYXBfNTFiMWM4OGM3MDA5NDJjOTgyMmNmMDI3YjRlMDc4OWYiID48L2Rpdj4KICAgICAgICAKPC9ib2R5Pgo8c2NyaXB0PiAgICAKICAgIAogICAgICAgICAgICB2YXIgbWFwXzUxYjFjODhjNzAwOTQyYzk4MjJjZjAyN2I0ZTA3ODlmID0gTC5tYXAoCiAgICAgICAgICAgICAgICAibWFwXzUxYjFjODhjNzAwOTQyYzk4MjJjZjAyN2I0ZTA3ODlmIiwKICAgICAgICAgICAgICAgIHsKICAgICAgICAgICAgICAgICAgICBjZW50ZXI6IFsyMS4zMDk0MTkwMDAwMDAwMDIsIC0xNTcuODYzMThdLAogICAgICAgICAgICAgICAgICAgIGNyczogTC5DUlMuRVBTRzM4NTcsCiAgICAgICAgICAgICAgICAgICAgem9vbTogMTIsCiAgICAgICAgICAgICAgICAgICAgem9vbUNvbnRyb2w6IHRydWUsCiAgICAgICAgICAgICAgICAgICAgcHJlZmVyQ2FudmFzOiBmYWxzZSwKICAgICAgICAgICAgICAgIH0KICAgICAgICAgICAgKTsKCiAgICAgICAgICAgIAoKICAgICAgICAKICAgIAogICAgICAgICAgICB2YXIgdGlsZV9sYXllcl8yMjNjNzMxYjgxNWE0N2M5OTgzNGY2ZGNmZTMwNTAyZSA9IEwudGlsZUxheWVyKAogICAgICAgICAgICAgICAgImh0dHBzOi8ve3N9LnRpbGUub3BlbnN0cmVldG1hcC5vcmcve3p9L3t4fS97eX0ucG5nIiwKICAgICAgICAgICAgICAgIHsiYXR0cmlidXRpb24iOiAiRGF0YSBieSBcdTAwMjZjb3B5OyBcdTAwM2NhIGhyZWY9XCJodHRwOi8vb3BlbnN0cmVldG1hcC5vcmdcIlx1MDAzZU9wZW5TdHJlZXRNYXBcdTAwM2MvYVx1MDAzZSwgdW5kZXIgXHUwMDNjYSBocmVmPVwiaHR0cDovL3d3dy5vcGVuc3RyZWV0bWFwLm9yZy9jb3B5cmlnaHRcIlx1MDAzZU9EYkxcdTAwM2MvYVx1MDAzZS4iLCAiZGV0ZWN0UmV0aW5hIjogZmFsc2UsICJtYXhOYXRpdmVab29tIjogMTgsICJtYXhab29tIjogMTgsICJtaW5ab29tIjogMCwgIm5vV3JhcCI6IGZhbHNlLCAib3BhY2l0eSI6IDEsICJzdWJkb21haW5zIjogImFiYyIsICJ0bXMiOiBmYWxzZX0KICAgICAgICAgICAgKS5hZGRUbyhtYXBfNTFiMWM4OGM3MDA5NDJjOTgyMmNmMDI3YjRlMDc4OWYpOwogICAgICAgIAogICAgCiAgICAgICAgICAgIHZhciBtYXJrZXJfOTM3YjRlZWM1ZGJmNDcxZGIzMGIyZjFmMWM3NzQ4MDYgPSBMLm1hcmtlcigKICAgICAgICAgICAgICAgIFsyMS4zMDk0MTkwMDAwMDAwMDIsIC0xNTcuODYzMThdLAogICAgICAgICAgICAgICAgeyJyYWRpdXMiOiAyfQogICAgICAgICAgICApLmFkZFRvKG1hcF81MWIxYzg4YzcwMDk0MmM5ODIyY2YwMjdiNGUwNzg5Zik7CiAgICAgICAgCiAgICAKICAgICAgICAgICAgdmFyIGljb25fN2YxNThlOGY4OGQ5NGU3MWIwNWQwNjU4MGI3MDBiYTAgPSBMLkF3ZXNvbWVNYXJrZXJzLmljb24oCiAgICAgICAgICAgICAgICB7ImV4dHJhQ2xhc3NlcyI6ICJmYS1yb3RhdGUtMCIsICJpY29uIjogImhvbWUiLCAiaWNvbkNvbG9yIjogIndoaXRlIiwgIm1hcmtlckNvbG9yIjogInJlZCIsICJwcmVmaXgiOiAiZ2x5cGhpY29uIn0KICAgICAgICAgICAgKTsKICAgICAgICAgICAgbWFya2VyXzkzN2I0ZWVjNWRiZjQ3MWRiMzBiMmYxZjFjNzc0ODA2LnNldEljb24oaWNvbl83ZjE1OGU4Zjg4ZDk0ZTcxYjA1ZDA2NTgwYjcwMGJhMCk7CiAgICAgICAgCiAgICAKICAgICAgICAgICAgbWFya2VyXzkzN2I0ZWVjNWRiZjQ3MWRiMzBiMmYxZjFjNzc0ODA2LmJpbmRUb29sdGlwKAogICAgICAgICAgICAgICAgYDxkaXY+CiAgICAgICAgICAgICAgICAgICAgIENvb2wgVGVjaCBTdGFydHVwOiBCbHVlIExhdmEgVGVjaG5vbG9naWVzCiAgICAgICAgICAgICAgICAgPC9kaXY+YCwKICAgICAgICAgICAgICAgIHsic3RpY2t5IjogdHJ1ZX0KICAgICAgICAgICAgKTsKICAgICAgICAKICAgIAogICAgICAgICAgICB2YXIgbWFya2VyXzRmNTg1MjVmYzRiMzQwMDE5MWFkYWJmZTJmNjY2ZTgyID0gTC5tYXJrZXIoCiAgICAgICAgICAgICAgICBbMjEuMzA4MTgwODk5OTk5OTk2LCAtMTU3Ljg2MjIzMjRdLAogICAgICAgICAgICAgICAgeyJyYWRpdXMiOiAyfQogICAgICAgICAgICApLmFkZFRvKG1hcF81MWIxYzg4YzcwMDk0MmM5ODIyY2YwMjdiNGUwNzg5Zik7CiAgICAgICAgCiAgICAKICAgICAgICAgICAgdmFyIGljb25fZDg5M2ZiMDk1ZTc0NGQ0N2I2OGIwOWFlNWRkN2E1YTcgPSBMLkF3ZXNvbWVNYXJrZXJzLmljb24oCiAgICAgICAgICAgICAgICB7ImV4dHJhQ2xhc3NlcyI6ICJmYS1yb3RhdGUtMCIsICJpY29uIjogImxlYWYiLCAiaWNvbkNvbG9yIjogIndoaXRlIiwgIm1hcmtlckNvbG9yIjogImdyZWVuIiwgInByZWZpeCI6ICJnbHlwaGljb24ifQogICAgICAgICAgICApOwogICAgICAgICAgICBtYXJrZXJfNGY1ODUyNWZjNGIzNDAwMTkxYWRhYmZlMmY2NjZlODIuc2V0SWNvbihpY29uX2Q4OTNmYjA5NWU3NDRkNDdiNjhiMDlhZTVkZDdhNWE3KTsKICAgICAgICAKICAgIAogICAgICAgICAgICBtYXJrZXJfNGY1ODUyNWZjNGIzNDAwMTkxYWRhYmZlMmY2NjZlODIuYmluZFRvb2x0aXAoCiAgICAgICAgICAgICAgICBgPGRpdj4KICAgICAgICAgICAgICAgICAgICAgU3RhcmJ1Y2tzCiAgICAgICAgICAgICAgICAgPC9kaXY+YCwKICAgICAgICAgICAgICAgIHsic3RpY2t5IjogdHJ1ZX0KICAgICAgICAgICAgKTsKICAgICAgICAKICAgIAogICAgICAgICAgICB2YXIgbWFya2VyXzg1NzAzN2IyYmRjNTQ0ZTQ5MTAwYjg5OWJmODhiZDFlID0gTC5tYXJrZXIoCiAgICAgICAgICAgICAgICBbMjEuMzI0NTEzMiwgLTE1Ny45MjUwNzM2XSwKICAgICAgICAgICAgICAgIHsicmFkaXVzIjogMn0KICAgICAgICAgICAgKS5hZGRUbyhtYXBfNTFiMWM4OGM3MDA5NDJjOTgyMmNmMDI3YjRlMDc4OWYpOwogICAgICAgIAogICAgCiAgICAgICAgICAgIHZhciBpY29uXzQ0YmU0YWRmMTJjMTRjYmNiYjAyODA5YzBhZDdlN2E1ID0gTC5Bd2Vzb21lTWFya2Vycy5pY29uKAogICAgICAgICAgICAgICAgeyJleHRyYUNsYXNzZXMiOiAiZmEtcm90YXRlLTAiLCAiaWNvbiI6ICJwbGFuZSIsICJpY29uQ29sb3IiOiAid2hpdGUiLCAibWFya2VyQ29sb3IiOiAibGlnaHRncmF5IiwgInByZWZpeCI6ICJnbHlwaGljb24ifQogICAgICAgICAgICApOwogICAgICAgICAgICBtYXJrZXJfODU3MDM3YjJiZGM1NDRlNDkxMDBiODk5YmY4OGJkMWUuc2V0SWNvbihpY29uXzQ0YmU0YWRmMTJjMTRjYmNiYjAyODA5YzBhZDdlN2E1KTsKICAgICAgICAKICAgIAogICAgICAgICAgICBtYXJrZXJfODU3MDM3YjJiZGM1NDRlNDkxMDBiODk5YmY4OGJkMWUuYmluZFRvb2x0aXAoCiAgICAgICAgICAgICAgICBgPGRpdj4KICAgICAgICAgICAgICAgICAgICAgRGFuaWVsIEsuIElub3V5ZSBJbnRlcm5hdGlvbmFsIEFpcnBvcnQKICAgICAgICAgICAgICAgICA8L2Rpdj5gLAogICAgICAgICAgICAgICAgeyJzdGlja3kiOiB0cnVlfQogICAgICAgICAgICApOwogICAgICAgIAogICAgCiAgICAgICAgICAgIHZhciBtYXJrZXJfNjcxNjY5MGY2NGE4NDhlZGFiN2ExNzg5MDQ3NTc2NGMgPSBMLm1hcmtlcigKICAgICAgICAgICAgICAgIFsyMS4zMTAwOTA1LCAtMTU3Ljg2MDI1M10sCiAgICAgICAgICAgICAgICB7InJhZGl1cyI6IDJ9CiAgICAgICAgICAgICkuYWRkVG8obWFwXzUxYjFjODhjNzAwOTQyYzk4MjJjZjAyN2I0ZTA3ODlmKTsKICAgICAgICAKICAgIAogICAgICAgICAgICB2YXIgaWNvbl9lZmRjOThkYjUyNWU0NTk4YmYyYTI4OWIwZWRlZTNiYyA9IEwuQXdlc29tZU1hcmtlcnMuaWNvbigKICAgICAgICAgICAgICAgIHsiZXh0cmFDbGFzc2VzIjogImZhLXJvdGF0ZS0wIiwgImljb24iOiAiaGVhcnQiLCAiaWNvbkNvbG9yIjogIndoaXRlIiwgIm1hcmtlckNvbG9yIjogImJsdWUiLCAicHJlZml4IjogImdseXBoaWNvbiJ9CiAgICAgICAgICAgICk7CiAgICAgICAgICAgIG1hcmtlcl82NzE2NjkwZjY0YTg0OGVkYWI3YTE3ODkwNDc1NzY0Yy5zZXRJY29uKGljb25fZWZkYzk4ZGI1MjVlNDU5OGJmMmEyODliMGVkZWUzYmMpOwogICAgICAgIAogICAgCiAgICAgICAgICAgIG1hcmtlcl82NzE2NjkwZjY0YTg0OGVkYWI3YTE3ODkwNDc1NzY0Yy5iaW5kVG9vbHRpcCgKICAgICAgICAgICAgICAgIGA8ZGl2PgogICAgICAgICAgICAgICAgICAgICBLaW5kZXJnYXJ0ZW46IExpdHRsZSBTZWVkIEVhcmx5IExlYXJuaW5nIENlbnRlcgogICAgICAgICAgICAgICAgIDwvZGl2PmAsCiAgICAgICAgICAgICAgICB7InN0aWNreSI6IHRydWV9CiAgICAgICAgICAgICk7CiAgICAgICAgCiAgICAKICAgICAgICAgICAgdmFyIG1hcmtlcl9jY2U3ODRlNDBkNzg0ZjRjYjg1YWM1ODUxODUwN2JlNSA9IEwubWFya2VyKAogICAgICAgICAgICAgICAgWzIxLjMxMTUxMzYsIC0xNTcuODYyNTcwODAwMDAwMDFdLAogICAgICAgICAgICAgICAgeyJyYWRpdXMiOiAyfQogICAgICAgICAgICApLmFkZFRvKG1hcF81MWIxYzg4YzcwMDk0MmM5ODIyY2YwMjdiNGUwNzg5Zik7CiAgICAgICAgCiAgICAKICAgICAgICAgICAgdmFyIGljb25fYzQzNDgzMGI2Yjk5NDA4ZjhlZjlmNDQ2N2Y0ZDllYTggPSBMLkF3ZXNvbWVNYXJrZXJzLmljb24oCiAgICAgICAgICAgICAgICB7ImV4dHJhQ2xhc3NlcyI6ICJmYS1yb3RhdGUtMCIsICJpY29uIjogImdsYXNzIiwgImljb25Db2xvciI6ICJ3aGl0ZSIsICJtYXJrZXJDb2xvciI6ICJkYXJrcHVycGxlIiwgInByZWZpeCI6ICJnbHlwaGljb24ifQogICAgICAgICAgICApOwogICAgICAgICAgICBtYXJrZXJfY2NlNzg0ZTQwZDc4NGY0Y2I4NWFjNTg1MTg1MDdiZTUuc2V0SWNvbihpY29uX2M0MzQ4MzBiNmI5OTQwOGY4ZWY5ZjQ0NjdmNGQ5ZWE4KTsKICAgICAgICAKICAgIAogICAgICAgICAgICBtYXJrZXJfY2NlNzg0ZTQwZDc4NGY0Y2I4NWFjNTg1MTg1MDdiZTUuYmluZFRvb2x0aXAoCiAgICAgICAgICAgICAgICBgPGRpdj4KICAgICAgICAgICAgICAgICAgICAgTmlnaHRjbHViOiBOZXh0RG9vcgogICAgICAgICAgICAgICAgIDwvZGl2PmAsCiAgICAgICAgICAgICAgICB7InN0aWNreSI6IHRydWV9CiAgICAgICAgICAgICk7CiAgICAgICAgCiAgICAKICAgICAgICAgICAgdmFyIG1hcmtlcl8yM2Q3ZGRkZTViZWE0Y2JjYTQ0ZGNjMWFlZTI4YzgzMSA9IEwubWFya2VyKAogICAgICAgICAgICAgICAgWzIxLjMwNjg0NTE5OTk5OTk5OCwgLTE1Ny44NjE5ODc0XSwKICAgICAgICAgICAgICAgIHsicmFkaXVzIjogMn0KICAgICAgICAgICAgKS5hZGRUbyhtYXBfNTFiMWM4OGM3MDA5NDJjOTgyMmNmMDI3YjRlMDc4OWYpOwogICAgICAgIAogICAgCiAgICAgICAgICAgIHZhciBpY29uXzc4YTRmMWQ3ZWNkMjQ5YWU4OTk2ZTk0NTZiNGQzM2M2ID0gTC5Bd2Vzb21lTWFya2Vycy5pY29uKAogICAgICAgICAgICAgICAgeyJleHRyYUNsYXNzZXMiOiAiZmEtcm90YXRlLTAiLCAiaWNvbiI6ICJjdXRsZXJ5IiwgImljb25Db2xvciI6ICJ3aGl0ZSIsICJtYXJrZXJDb2xvciI6ICJkYXJrZ3JlZW4iLCAicHJlZml4IjogImdseXBoaWNvbiJ9CiAgICAgICAgICAgICk7CiAgICAgICAgICAgIG1hcmtlcl8yM2Q3ZGRkZTViZWE0Y2JjYTQ0ZGNjMWFlZTI4YzgzMS5zZXRJY29uKGljb25fNzhhNGYxZDdlY2QyNDlhZTg5OTZlOTQ1NmI0ZDMzYzYpOwogICAgICAgIAogICAgCiAgICAgICAgICAgIG1hcmtlcl8yM2Q3ZGRkZTViZWE0Y2JjYTQ0ZGNjMWFlZTI4YzgzMS5iaW5kVG9vbHRpcCgKICAgICAgICAgICAgICAgIGA8ZGl2PgogICAgICAgICAgICAgICAgICAgICBWZWdhbjogV2F0ZXIgRHJvcCBWZWdldGFyaWFuIEhvdXNlCiAgICAgICAgICAgICAgICAgPC9kaXY+YCwKICAgICAgICAgICAgICAgIHsic3RpY2t5IjogdHJ1ZX0KICAgICAgICAgICAgKTsKICAgICAgICAKPC9zY3JpcHQ+\" style=\"position:absolute;width:100%;height:100%;left:0;top:0;border:none !important;\" allowfullscreen webkitallowfullscreen mozallowfullscreen></iframe></div></div>"
      ],
      "text/plain": [
       "<folium.folium.Map at 0x7f83d675bc50>"
      ]
     },
     "execution_count": 57,
     "metadata": {},
     "output_type": "execute_result"
    }
   ],
   "source": [
    "map_city"
   ]
  },
  {
   "cell_type": "code",
   "execution_count": null,
   "metadata": {},
   "outputs": [],
   "source": []
  },
  {
   "cell_type": "code",
   "execution_count": null,
   "metadata": {},
   "outputs": [],
   "source": []
  }
 ],
 "metadata": {
  "kernelspec": {
   "display_name": "Python 3",
   "language": "python",
   "name": "python3"
  },
  "language_info": {
   "codemirror_mode": {
    "name": "ipython",
    "version": 3
   },
   "file_extension": ".py",
   "mimetype": "text/x-python",
   "name": "python",
   "nbconvert_exporter": "python",
   "pygments_lexer": "ipython3",
   "version": "3.6.8"
  }
 },
 "nbformat": 4,
 "nbformat_minor": 2
}

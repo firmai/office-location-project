{
 "cells": [
  {
   "cell_type": "markdown",
   "metadata": {},
   "source": [
    "# This is an office location recommender!"
   ]
  },
  {
   "cell_type": "markdown",
   "metadata": {},
   "source": [
    "#### Let's import our createMap.py that contains generateMap function:"
   ]
  },
  {
   "cell_type": "code",
   "execution_count": 110,
   "metadata": {},
   "outputs": [],
   "source": [
    "import src.createMap as cm"
   ]
  },
  {
   "cell_type": "markdown",
   "metadata": {},
   "source": [
    "#### Create a Pandas dataframe with our final dataset. It contains the ideal locations for our new office and also the locations of all services we want to have close to us."
   ]
  },
  {
   "cell_type": "code",
   "execution_count": 111,
   "metadata": {},
   "outputs": [],
   "source": [
    "all_clean = pd.read_csv('./output/all_clean.csv')"
   ]
  },
  {
   "cell_type": "markdown",
   "metadata": {},
   "source": [
    "#### Count the ideal how many ideal locations we have per city:"
   ]
  },
  {
   "cell_type": "code",
   "execution_count": 112,
   "metadata": {},
   "outputs": [],
   "source": [
    "city_count = all_clean.groupby(['city']).count()\n",
    "city_sorted = city_count.sort_values(['tech_startups'], ascending=[False])"
   ]
  },
  {
   "cell_type": "code",
   "execution_count": 113,
   "metadata": {},
   "outputs": [
    {
     "data": {
      "text/plain": [
       "city\n",
       "New York               52\n",
       "San Francisco          52\n",
       "Seattle                10\n",
       "Boston                  6\n",
       "Chicago                 5\n",
       "Paris                   5\n",
       "Toronto                 5\n",
       "Mountain View           4\n",
       "Palo Alto               4\n",
       "Los Angeles             4\n",
       "London                  3\n",
       "Boulder                 3\n",
       "Bellevue                3\n",
       "Montreal                3\n",
       "Reston                  2\n",
       "Redwood City            2\n",
       "Sydney                  2\n",
       "Menlo Park              2\n",
       "Amsterdam               2\n",
       "Copenhagen              2\n",
       "Berlin                  2\n",
       "Corte Madera            2\n",
       "Colorado Springs        1\n",
       "Birmingham              1\n",
       "Sunnyvale               1\n",
       "Stockholm               1\n",
       "Singapore               1\n",
       "Budapest                1\n",
       "Santa Monica            1\n",
       "Santa Clara             1\n",
       "San Mateo               1\n",
       "San Jose                1\n",
       "Cambridge               1\n",
       "Lancaster               1\n",
       "Honolulu                1\n",
       "Pittsburgh              1\n",
       "Emeryville              1\n",
       "Olpe                    1\n",
       "Glen Cove               1\n",
       "New Delhi               1\n",
       "Natick                  1\n",
       "Greenbelt               1\n",
       "Barcelona               1\n",
       "Halifax                 1\n",
       "Melbourne, Victoria     1\n",
       "Waterloo                1\n",
       "Name: tech_startups, dtype: int64"
      ]
     },
     "execution_count": 113,
     "metadata": {},
     "output_type": "execute_result"
    }
   ],
   "source": [
    "city_sorted['tech_startups']"
   ]
  },
  {
   "cell_type": "markdown",
   "metadata": {},
   "source": [
    "#### Let's choose a city and save it on a variable:"
   ]
  },
  {
   "cell_type": "code",
   "execution_count": 114,
   "metadata": {},
   "outputs": [
    {
     "name": "stdout",
     "output_type": "stream",
     "text": [
      "Insert a city from the list above: Budapest\n"
     ]
    }
   ],
   "source": [
    "choose_city = str(input(\"Insert a city from the list above: \")).capitalize()"
   ]
  },
  {
   "cell_type": "code",
   "execution_count": 116,
   "metadata": {},
   "outputs": [],
   "source": [
    "if choose_city in city_sorted['tech_startups']:\n",
    "    office_map = cm.generateMap(choose_city)\n",
    "else:\n",
    "    print(\"The city have chosen is not listed above. Please choose again.\")"
   ]
  },
  {
   "cell_type": "markdown",
   "metadata": {},
   "source": [
    "### Finally, the locations get painted on a map :)"
   ]
  },
  {
   "cell_type": "code",
   "execution_count": 117,
   "metadata": {},
   "outputs": [
    {
     "data": {
      "text/html": [
       "<div style=\"width:100%;\"><div style=\"position:relative;width:100%;height:0;padding-bottom:60%;\"><iframe src=\"data:text/html;charset=utf-8;base64,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\" style=\"position:absolute;width:100%;height:100%;left:0;top:0;border:none !important;\" allowfullscreen webkitallowfullscreen mozallowfullscreen></iframe></div></div>"
      ],
      "text/plain": [
       "<folium.folium.Map at 0x7f83d63dc400>"
      ]
     },
     "execution_count": 117,
     "metadata": {},
     "output_type": "execute_result"
    }
   ],
   "source": [
    "office_map"
   ]
  },
  {
   "cell_type": "code",
   "execution_count": null,
   "metadata": {},
   "outputs": [],
   "source": []
  },
  {
   "cell_type": "code",
   "execution_count": null,
   "metadata": {},
   "outputs": [],
   "source": []
  },
  {
   "cell_type": "code",
   "execution_count": null,
   "metadata": {},
   "outputs": [],
   "source": []
  }
 ],
 "metadata": {
  "kernelspec": {
   "display_name": "Python 3",
   "language": "python",
   "name": "python3"
  },
  "language_info": {
   "codemirror_mode": {
    "name": "ipython",
    "version": 3
   },
   "file_extension": ".py",
   "mimetype": "text/x-python",
   "name": "python",
   "nbconvert_exporter": "python",
   "pygments_lexer": "ipython3",
   "version": "3.6.8"
  }
 },
 "nbformat": 4,
 "nbformat_minor": 2
}

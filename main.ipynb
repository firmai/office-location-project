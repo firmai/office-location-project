{
 "cells": [
  {
   "cell_type": "code",
   "execution_count": null,
   "metadata": {},
   "outputs": [],
   "source": []
  },
  {
   "cell_type": "code",
   "execution_count": null,
   "metadata": {},
   "outputs": [],
   "source": []
  },
  {
   "cell_type": "code",
   "execution_count": null,
   "metadata": {},
   "outputs": [],
   "source": []
  },
  {
   "cell_type": "code",
   "execution_count": null,
   "metadata": {},
   "outputs": [],
   "source": []
  },
  {
   "cell_type": "code",
   "execution_count": 1,
   "metadata": {},
   "outputs": [],
   "source": [
    "import pandas as pd\n",
    "import folium"
   ]
  },
  {
   "cell_type": "code",
   "execution_count": 3,
   "metadata": {},
   "outputs": [],
   "source": [
    "all_clean = pd.read_csv('./input/all_clean.csv')"
   ]
  },
  {
   "cell_type": "code",
   "execution_count": 10,
   "metadata": {},
   "outputs": [],
   "source": [
    "city_count = all_clean.groupby(['city']).count()\n",
    "city_sorted = city_count.sort_values(['tech_startups'], ascending=[False])"
   ]
  },
  {
   "cell_type": "code",
   "execution_count": 11,
   "metadata": {},
   "outputs": [
    {
     "data": {
      "text/plain": [
       "city\n",
       "New York               52\n",
       "San Francisco          52\n",
       "Seattle                10\n",
       "Boston                  6\n",
       "Chicago                 5\n",
       "Paris                   5\n",
       "Toronto                 5\n",
       "Mountain View           4\n",
       "Palo Alto               4\n",
       "Los Angeles             4\n",
       "London                  3\n",
       "Boulder                 3\n",
       "Bellevue                3\n",
       "Montreal                3\n",
       "Reston                  2\n",
       "Redwood City            2\n",
       "Sydney                  2\n",
       "Menlo Park              2\n",
       "Amsterdam               2\n",
       "Copenhagen              2\n",
       "Berlin                  2\n",
       "Corte Madera            2\n",
       "Colorado Springs        1\n",
       "Birmingham              1\n",
       "Sunnyvale               1\n",
       "Stockholm               1\n",
       "Singapore               1\n",
       "Budapest                1\n",
       "Santa Monica            1\n",
       "Santa Clara             1\n",
       "San Mateo               1\n",
       "San Jose                1\n",
       "Cambridge               1\n",
       "Lancaster               1\n",
       "Honolulu                1\n",
       "Pittsburgh              1\n",
       "Emeryville              1\n",
       "Olpe                    1\n",
       "Glen Cove               1\n",
       "New Delhi               1\n",
       "Natick                  1\n",
       "Greenbelt               1\n",
       "Barcelona               1\n",
       "Halifax                 1\n",
       "Melbourne, Victoria     1\n",
       "Waterloo                1\n",
       "Name: tech_startups, dtype: int64"
      ]
     },
     "execution_count": 11,
     "metadata": {},
     "output_type": "execute_result"
    }
   ],
   "source": [
    "city_sorted['tech_startups']"
   ]
  },
  {
   "cell_type": "code",
   "execution_count": null,
   "metadata": {},
   "outputs": [],
   "source": []
  }
 ],
 "metadata": {
  "kernelspec": {
   "display_name": "Python 3",
   "language": "python",
   "name": "python3"
  },
  "language_info": {
   "codemirror_mode": {
    "name": "ipython",
    "version": 3
   },
   "file_extension": ".py",
   "mimetype": "text/x-python",
   "name": "python",
   "nbconvert_exporter": "python",
   "pygments_lexer": "ipython3",
   "version": "3.6.8"
  }
 },
 "nbformat": 4,
 "nbformat_minor": 2
}

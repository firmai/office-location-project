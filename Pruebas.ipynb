{
 "cells": [
  {
   "cell_type": "markdown",
   "metadata": {},
   "source": [
    "## Requirements"
   ]
  },
  {
   "cell_type": "markdown",
   "metadata": {},
   "source": [
    "- Designers like to go to design talks and share knowledge. There must be some nearby companies that also do design.\n",
    "- 30% of the company have at least 1 child.\n",
    "- Developers like to be near successful tech startups that have raised at least 1 Million dollars.\n",
    "- Executives like Starbucks A LOT. Ensure there's a starbucks not to far.\n",
    "- Account managers need to travel a lot\n",
    "- All people in the company have between 25 and 40 years, give them some place to go to party.\n",
    "- Nobody in the company likes to have companies with more than 10 years in a radius of 2 KM.\n",
    "- The CEO is Vegan"
   ]
  },
  {
   "cell_type": "code",
   "execution_count": 1,
   "metadata": {},
   "outputs": [],
   "source": [
    "from pymongo import MongoClient\n",
    "import folium\n",
    "import pandas as pd"
   ]
  },
  {
   "cell_type": "markdown",
   "metadata": {},
   "source": [
    "Function to conect to the database and collection of MongoDB in localhost:"
   ]
  },
  {
   "cell_type": "code",
   "execution_count": 2,
   "metadata": {},
   "outputs": [],
   "source": [
    "def connectCollection(database, collection):\n",
    "    client = MongoClient()\n",
    "    db = client[database]\n",
    "    coll = db[collection]\n",
    "    return db, coll"
   ]
  },
  {
   "cell_type": "markdown",
   "metadata": {},
   "source": [
    "Function to get the latitude and longitude in geoJSON format:"
   ]
  },
  {
   "cell_type": "code",
   "execution_count": 3,
   "metadata": {},
   "outputs": [],
   "source": [
    "db, coll = connectCollection('companies','companies')"
   ]
  },
  {
   "cell_type": "code",
   "execution_count": 4,
   "metadata": {},
   "outputs": [],
   "source": [
    "def getLocation(comp,i):\n",
    "    latitude = comp['offices'][i]['latitude']\n",
    "    longitude = comp['offices'][i]['longitude']\n",
    "    loc = {\n",
    "        'type':'Point',\n",
    "        'coordinates':[longitude, latitude]\n",
    "    }\n",
    "    return loc"
   ]
  },
  {
   "cell_type": "code",
   "execution_count": 15,
   "metadata": {},
   "outputs": [],
   "source": [
    "def getName(comp,i):\n",
    "    name = comp['name']\n",
    "    return name"
   ]
  },
  {
   "cell_type": "markdown",
   "metadata": {},
   "source": [
    "Let's find all the companies that have less than 10 years since their foundation:"
   ]
  },
  {
   "cell_type": "code",
   "execution_count": 24,
   "metadata": {},
   "outputs": [],
   "source": [
    "company = coll.find({\"$and\": [{\"total_money_raised\": {\"$gt\": \"$1M\"}},{\"founded_year\": {\"$gt\":2009}}]})"
   ]
  },
  {
   "cell_type": "markdown",
   "metadata": {},
   "source": [
    "Now I set a new field in the documents, call \"location\", which will contain the info provided by getLocation function:"
   ]
  },
  {
   "cell_type": "code",
   "execution_count": 26,
   "metadata": {},
   "outputs": [],
   "source": [
    "for c in company:\n",
    "    for i in range(len(c['offices'])):\n",
    "        value = {\"$set\": {'offices.'+str(i)+'.location':getLocation(c,i)}}\n",
    "        coll.update_one(c,value)\n",
    "\n"
   ]
  },
  {
   "cell_type": "code",
   "execution_count": 25,
   "metadata": {},
   "outputs": [],
   "source": [
    "for c in company:\n",
    "    for i in range(len(c['offices'])):\n",
    "        value = {\"$set\": {'location.'+str(i):getLocation(c,i)}}\n",
    "        coll.update_one(c,value)\n",
    "\n"
   ]
  },
  {
   "cell_type": "code",
   "execution_count": 17,
   "metadata": {},
   "outputs": [],
   "source": [
    "for c in company:\n",
    "    for i in range(len(c['offices'])):\n",
    "        value = {\"$unset\": {'location'+str(i):''}}\n",
    "        coll.update_one(c,value)"
   ]
  },
  {
   "cell_type": "code",
   "execution_count": 10,
   "metadata": {},
   "outputs": [],
   "source": [
    "company = coll.find({\"$and\": [{\"total_money_raised\": {\"$gt\": \"$1M\"}},{\"founded_year\": {\"$gt\":2009}}]})"
   ]
  },
  {
   "cell_type": "code",
   "execution_count": 5,
   "metadata": {},
   "outputs": [],
   "source": []
  },
  {
   "cell_type": "code",
   "execution_count": 6,
   "metadata": {},
   "outputs": [],
   "source": [
    "df = pd.DataFrame(list(company))"
   ]
  },
  {
   "cell_type": "code",
   "execution_count": 31,
   "metadata": {},
   "outputs": [],
   "source": []
  },
  {
   "cell_type": "code",
   "execution_count": 8,
   "metadata": {},
   "outputs": [],
   "source": [
    "new_df = df[['name','founded_year','description','offices']]"
   ]
  },
  {
   "cell_type": "code",
   "execution_count": 9,
   "metadata": {},
   "outputs": [
    {
     "data": {
      "text/html": [
       "<div>\n",
       "<style scoped>\n",
       "    .dataframe tbody tr th:only-of-type {\n",
       "        vertical-align: middle;\n",
       "    }\n",
       "\n",
       "    .dataframe tbody tr th {\n",
       "        vertical-align: top;\n",
       "    }\n",
       "\n",
       "    .dataframe thead th {\n",
       "        text-align: right;\n",
       "    }\n",
       "</style>\n",
       "<table border=\"1\" class=\"dataframe\">\n",
       "  <thead>\n",
       "    <tr style=\"text-align: right;\">\n",
       "      <th></th>\n",
       "      <th>name</th>\n",
       "      <th>founded_year</th>\n",
       "      <th>description</th>\n",
       "      <th>offices</th>\n",
       "    </tr>\n",
       "  </thead>\n",
       "  <tbody>\n",
       "    <tr>\n",
       "      <th>0</th>\n",
       "      <td>AdventNet</td>\n",
       "      <td>1996</td>\n",
       "      <td>Server Management Software</td>\n",
       "      <td>[{'description': 'Headquarters', 'address1': '...</td>\n",
       "    </tr>\n",
       "    <tr>\n",
       "      <th>1</th>\n",
       "      <td>Wetpaint</td>\n",
       "      <td>2005</td>\n",
       "      <td>Technology Platform Company</td>\n",
       "      <td>[{'description': '', 'address1': '710 - 2nd Av...</td>\n",
       "    </tr>\n",
       "    <tr>\n",
       "      <th>2</th>\n",
       "      <td>Zoho</td>\n",
       "      <td>2005</td>\n",
       "      <td>Online Business Apps Suite</td>\n",
       "      <td>[{'description': 'Headquarters', 'address1': '...</td>\n",
       "    </tr>\n",
       "    <tr>\n",
       "      <th>3</th>\n",
       "      <td>Omnidrive</td>\n",
       "      <td>2005</td>\n",
       "      <td>None</td>\n",
       "      <td>[{'description': '', 'address1': 'Suite 200', ...</td>\n",
       "    </tr>\n",
       "    <tr>\n",
       "      <th>4</th>\n",
       "      <td>Postini</td>\n",
       "      <td>1999</td>\n",
       "      <td>None</td>\n",
       "      <td>[{'description': None, 'address1': '959 Skyway...</td>\n",
       "    </tr>\n",
       "    <tr>\n",
       "      <th>...</th>\n",
       "      <td>...</td>\n",
       "      <td>...</td>\n",
       "      <td>...</td>\n",
       "      <td>...</td>\n",
       "    </tr>\n",
       "    <tr>\n",
       "      <th>12298</th>\n",
       "      <td>Contemporary Computer Services</td>\n",
       "      <td>1974</td>\n",
       "      <td></td>\n",
       "      <td>[{'description': '', 'address1': '200 Knickerb...</td>\n",
       "    </tr>\n",
       "    <tr>\n",
       "      <th>12299</th>\n",
       "      <td>Eazeeloans</td>\n",
       "      <td>2006</td>\n",
       "      <td>Loan advisory portal</td>\n",
       "      <td>[{'description': 'Apex Finance &amp; Marketing', '...</td>\n",
       "    </tr>\n",
       "    <tr>\n",
       "      <th>12300</th>\n",
       "      <td>AfterLogic</td>\n",
       "      <td>2002</td>\n",
       "      <td>.NET Email Components and Webmail</td>\n",
       "      <td>[{'description': 'Livingston', 'address1': 'P....</td>\n",
       "    </tr>\n",
       "    <tr>\n",
       "      <th>12301</th>\n",
       "      <td>EnteGreat</td>\n",
       "      <td>2000</td>\n",
       "      <td></td>\n",
       "      <td>[{'description': '', 'address1': '1900 Interna...</td>\n",
       "    </tr>\n",
       "    <tr>\n",
       "      <th>12302</th>\n",
       "      <td>cotralis</td>\n",
       "      <td>2008</td>\n",
       "      <td>sms gps web blog location</td>\n",
       "      <td>[]</td>\n",
       "    </tr>\n",
       "  </tbody>\n",
       "</table>\n",
       "<p>12303 rows × 4 columns</p>\n",
       "</div>"
      ],
      "text/plain": [
       "                                 name  founded_year  \\\n",
       "0                           AdventNet          1996   \n",
       "1                            Wetpaint          2005   \n",
       "2                                Zoho          2005   \n",
       "3                           Omnidrive          2005   \n",
       "4                             Postini          1999   \n",
       "...                               ...           ...   \n",
       "12298  Contemporary Computer Services          1974   \n",
       "12299                      Eazeeloans          2006   \n",
       "12300                      AfterLogic          2002   \n",
       "12301                       EnteGreat          2000   \n",
       "12302                        cotralis          2008   \n",
       "\n",
       "                             description  \\\n",
       "0             Server Management Software   \n",
       "1            Technology Platform Company   \n",
       "2             Online Business Apps Suite   \n",
       "3                                   None   \n",
       "4                                   None   \n",
       "...                                  ...   \n",
       "12298                                      \n",
       "12299               Loan advisory portal   \n",
       "12300  .NET Email Components and Webmail   \n",
       "12301                                      \n",
       "12302          sms gps web blog location   \n",
       "\n",
       "                                                 offices  \n",
       "0      [{'description': 'Headquarters', 'address1': '...  \n",
       "1      [{'description': '', 'address1': '710 - 2nd Av...  \n",
       "2      [{'description': 'Headquarters', 'address1': '...  \n",
       "3      [{'description': '', 'address1': 'Suite 200', ...  \n",
       "4      [{'description': None, 'address1': '959 Skyway...  \n",
       "...                                                  ...  \n",
       "12298  [{'description': '', 'address1': '200 Knickerb...  \n",
       "12299  [{'description': 'Apex Finance & Marketing', '...  \n",
       "12300  [{'description': 'Livingston', 'address1': 'P....  \n",
       "12301  [{'description': '', 'address1': '1900 Interna...  \n",
       "12302                                                 []  \n",
       "\n",
       "[12303 rows x 4 columns]"
      ]
     },
     "execution_count": 9,
     "metadata": {},
     "output_type": "execute_result"
    }
   ],
   "source": [
    "new_df"
   ]
  },
  {
   "cell_type": "code",
   "execution_count": null,
   "metadata": {},
   "outputs": [],
   "source": []
  },
  {
   "cell_type": "code",
   "execution_count": 18,
   "metadata": {},
   "outputs": [],
   "source": [
    "company = coll.find({\"founded_year\": {\"$lt\":2009}})"
   ]
  },
  {
   "cell_type": "code",
   "execution_count": null,
   "metadata": {},
   "outputs": [],
   "source": [
    "df2 = pd.DataFrame(columns=['name'])"
   ]
  },
  {
   "cell_type": "code",
   "execution_count": 19,
   "metadata": {},
   "outputs": [],
   "source": [
    "for c in company:\n",
    "        for i in range(len(c['offices'])):\n",
    "            value = {\"$set\": {'offices.'+str(i)+'.name':getName(c,i)}}\n",
    "            coll.update_one(c,value)\n",
    "    "
   ]
  },
  {
   "cell_type": "code",
   "execution_count": null,
   "metadata": {},
   "outputs": [],
   "source": []
  },
  {
   "cell_type": "code",
   "execution_count": null,
   "metadata": {},
   "outputs": [],
   "source": []
  },
  {
   "cell_type": "code",
   "execution_count": null,
   "metadata": {},
   "outputs": [],
   "source": []
  },
  {
   "cell_type": "code",
   "execution_count": null,
   "metadata": {},
   "outputs": [],
   "source": []
  },
  {
   "cell_type": "code",
   "execution_count": null,
   "metadata": {},
   "outputs": [],
   "source": []
  },
  {
   "cell_type": "code",
   "execution_count": null,
   "metadata": {},
   "outputs": [],
   "source": []
  },
  {
   "cell_type": "code",
   "execution_count": null,
   "metadata": {},
   "outputs": [],
   "source": []
  },
  {
   "cell_type": "code",
   "execution_count": null,
   "metadata": {},
   "outputs": [],
   "source": []
  },
  {
   "cell_type": "code",
   "execution_count": null,
   "metadata": {},
   "outputs": [],
   "source": []
  },
  {
   "cell_type": "markdown",
   "metadata": {},
   "source": [
    "## APIs"
   ]
  },
  {
   "cell_type": "code",
   "execution_count": 26,
   "metadata": {},
   "outputs": [
    {
     "data": {
      "text/plain": [
       "True"
      ]
     },
     "execution_count": 26,
     "metadata": {},
     "output_type": "execute_result"
    }
   ],
   "source": [
    "import os\n",
    "from dotenv import load_dotenv\n",
    "import requests\n",
    "load_dotenv()\n"
   ]
  },
  {
   "cell_type": "code",
   "execution_count": 30,
   "metadata": {},
   "outputs": [],
   "source": [
    "def googleRequestAuthorized():\n",
    "\n",
    "    # Function\n",
    "    authToken = os.getenv(\"GOOGLE_API_TOKEN\")\n",
    "    if not authToken:\n",
    "        raise ValueError(\"NECESITAS UN TOKEN\")\n",
    "    url = \"https://maps.googleapis.com/maps/api/place/findplacefromtext/json?input=Vegan%20Restaurant%20Madrid%20Spain&inputtype=textquery&fields=formatted_address,name,geometry&key={}\".format(authToken)\n",
    "\n",
    "    res = requests.get(url)\n",
    "    data = res.json()\n",
    "    return data"
   ]
  },
  {
   "cell_type": "code",
   "execution_count": 31,
   "metadata": {},
   "outputs": [],
   "source": [
    "example = googleRequestAuthorized()"
   ]
  },
  {
   "cell_type": "code",
   "execution_count": 32,
   "metadata": {},
   "outputs": [
    {
     "name": "stdout",
     "output_type": "stream",
     "text": [
      "{'candidates': [{'formatted_address': 'Calle de la Luna, 9, 28004 Madrid, España', 'geometry': {'location': {'lat': 40.422335, 'lng': -3.706148}, 'viewport': {'northeast': {'lat': 40.42368492989272, 'lng': -3.704753870107278}, 'southwest': {'lat': 40.42098527010728, 'lng': -3.707453529892722}}}, 'name': 'VEGA', 'opening_hours': {'open_now': False}, 'rating': 4.5}], 'status': 'OK'}\n"
     ]
    }
   ],
   "source": [
    "print(example)"
   ]
  },
  {
   "cell_type": "code",
   "execution_count": null,
   "metadata": {},
   "outputs": [],
   "source": []
  }
 ],
 "metadata": {
  "kernelspec": {
   "display_name": "Python 3",
   "language": "python",
   "name": "python3"
  },
  "language_info": {
   "codemirror_mode": {
    "name": "ipython",
    "version": 3
   },
   "file_extension": ".py",
   "mimetype": "text/x-python",
   "name": "python",
   "nbconvert_exporter": "python",
   "pygments_lexer": "ipython3",
   "version": "3.6.8"
  }
 },
 "nbformat": 4,
 "nbformat_minor": 2
}
